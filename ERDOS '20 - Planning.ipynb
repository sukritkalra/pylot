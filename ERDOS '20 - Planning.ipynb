{
 "cells": [
  {
   "cell_type": "markdown",
   "metadata": {},
   "source": [
    "[//]: #![erdos-logo](risecamp/erdos-pylot-risecamp-logo.png)\n",
    "<img src=\"risecamp/erdos-pylot-risecamp-logo.png\" alt=\"erdos-logo\" style=\"width: 800px;\"/>\n",
    "\n",
    "<font color=\"red\"><b>TODO</b></font>: Give an intro of what ERDOS and Pylot is.\n",
    "\n",
    "# Architecture of an Autonomous Vehicle\n",
    "\n",
    "[//]: #![Pylotpipeline](./doc/source/images/pylot.png)\n",
    "<img src=\"doc/source/images/pylot.png\" alt=\"Pylot Pipeline\" style=\"width: 800px;\"/>\n",
    "\n",
    "An autonomous vehicle (AV) is typically equipped with multiple instances of sensor including cameras and LiDARs that operate at different frequencies and generate approximately 1GB/s of data.\n",
    "\n",
    "A state-of-the-art AV pipeline comprises of five modules, each implemented using several components:\n",
    "1. __Perception__: Recognizes the scene by detecting and classifying objects.\n",
    "2. __Localization__: Provides the location of the vehicle with decimeter-level accuracy.\n",
    "3. __Prediction__: Estimates how other agents would move in the environment.\n",
    "4. __Planning__: Generates trajectories for the AV to follow.\n",
    "5. __Control__: Physically operates the AV.\n",
    "\n",
    "\n",
    "## Tutorial Overview\n",
    "\n",
    "<img src=\"risecamp/scenario.png\" alt=\"risecamp-scenario\" style=\"width: 800px;\"/>\n",
    "\n",
    "In this set of tutorials, we will focus on the __*planning*__ module of the vehicle to show how changes in the driving environment require the AV to utilize different hyperparameters to ensure safety.\n",
    "\n",
    "[Exercise 1](#exercise1) walks through the development of the __*planning*__ component, and executes it at a fixed speed in an emergency scenario.\n",
    "\n",
    "[Exercise 2](#exercise2) utilizes the planning component developed in [Exercise 1](#exercise1) to drive at different speeds and see when the configuration becomes unsafe.\n",
    "\n",
    "[Exercise 3](#exercise3) shows how tweaking the hyperparameters of the planning component can help the vehicle ensure safety at different speeds."
   ]
  },
  {
   "cell_type": "markdown",
   "metadata": {},
   "source": [
    "<a id='exercise1'></a>\n",
    "# Exercise 1: Getting started with Pylot!\n",
    "![perception](risecamp/perception-crop.gif)\n",
    "\n",
    "__GOAL__: This exercise walks through the development of a __*planning*__ component, and its execution inside the [Pylot](https://github.com/erdos-project/pylot) pipeline at a fixed speed.\n",
    "\n",
    "ERDOS models the AV pipeline as a directed dataflow graph where developers implement the components of the pipeline as __*operators*__ that communicate with each other through typed __*streams*__. Operators can request callbacks upon receipt of messages on a stream, and send the computed results to other operators via a different stream. For example, a __*planning*__ component computes the trajectory of the AV based on the predictions sent by the __*prediction*__ module, and sends it to the __*control*__ module to physically operate the AV.\n",
    "\n",
    "The following cell provides a skeleton implementation of a `PlanningOperator` that receives a `message` from the `PredictionOperator`. Upon receipt of the message, the `on_prediction_update` method is invoked which retrieves the predictions from the message for the planning algorithm to use. However, the initial implementation returns an empty list from the predictions, which tells the planner that there are no obstacles to plan around. \n",
    "\n",
    "We will now fix this implementation of the `Planner` by correctly using the received predictions. To achieve this, you have to complete the following tasks:\n",
    "1. Run the following two cells *without changing the code* to visualize the effects of no predictions on the AV.\n",
    "2. Instead of returning the empty list, return the correct predictions by retrieving them from the `message` using `message.predictions`. \n",
    "3. Run the following two cells again with your fixed code to see how the AV drives! "
   ]
  },
  {
   "cell_type": "code",
   "execution_count": null,
   "metadata": {},
   "outputs": [],
   "source": [
    "from pylot.planning.planning_operator import PlanningOperator\n",
    "\n",
    "# TODO(1): Run this cell and the next one without any changes to the code \n",
    "#          to see the effect of no predictions on on the planner.\n",
    "\n",
    "class Planner(PlanningOperator):\n",
    "    def on_prediction_update(self, message):\n",
    "        # TODO: Instead of the empty list, return `message.predictions`.\n",
    "        return message.predictions\n",
    "\n",
    "    \n",
    "# Run the simulator and the scenario (Don't change!)\n",
    "import pylot.risecamp \n",
    "simulator = pylot.risecamp.start_simulator()\n",
    "scenario = pylot.risecamp.setup_scenario()"
   ]
  },
  {
   "cell_type": "code",
   "execution_count": null,
   "metadata": {},
   "outputs": [],
   "source": [
    "# Helper function to start the Pylot pipeline.\n",
    "video_name = pylot.risecamp.start_pylot(planner=Planner)\n",
    "\n",
    "# Functions to reset the scenario and the simulator. (Don't change!)\n",
    "simulator.reset()\n",
    "scenario.reset()\n",
    "\n",
    "# Visualize the drive.\n",
    "from IPython.display import Video\n",
    "Video(video_name, html_attributes=\"loop autoplay\")"
   ]
  },
  {
   "cell_type": "markdown",
   "metadata": {},
   "source": [
    "<a id='exercise2'></a>\n",
    "# Exercise 2: Experimenting with vehicle speed\n",
    "\n",
    "__GOAL__: Show the effect of a static `Planner` configuration on the AV at different driving speeds.\n",
    "\n",
    "The previous exercise constructed a `Planner` that was able to prevent a collision with the pedestrian at a speed of 12m/s. However, the speed at which the vehicle is driving requires the vehicle to have different response times in order to remain safe. \n",
    "\n",
    "For example, the image below shows that a vehicle driving at 15m/s is able to stop for the pedestrian with a response time of 400ms. However, the same vehicle requires a 200ms response time to be able to prevent a collision at 18m/s.\n",
    "\n",
    "<img src=\"risecamp/Stopping-distance.png\" alt=\"Stopping Distance\" style=\"width: 800px;\"/>\n",
    "\n",
    "We will now explore the effects of different driving speeds of the AV on its ability to prevent a collision under a static configuration. To achieve this, complete the following tasks:\n",
    "1. Change the `VEHICLE_SPEED` to a desired speed.\n",
    "2. Run the following two cells to see the effect of the vehicle speed on its ability to prevent a collision with a static configuration."
   ]
  },
  {
   "cell_type": "code",
   "execution_count": 1,
   "metadata": {
    "scrolled": true
   },
   "outputs": [
    {
     "name": "stdout",
     "output_type": "stream",
     "text": [
      "Starting the simulator...\n",
      "Finished running the simulator...\n",
      "Setting up the scenario... \n",
      "Finished setting up the scenario...\n"
     ]
    }
   ],
   "source": [
    "# TODO: Change the vehicle speed here to see the effect. (Try 15m/s!)\n",
    "VEHICLE_SPEED = 10 # m/s \n",
    "\n",
    "# Run the simulator and the scenario (Don't change!)\n",
    "import pylot.risecamp \n",
    "simulator = pylot.risecamp.start_simulator()\n",
    "scenario = pylot.risecamp.setup_scenario()"
   ]
  },
  {
   "cell_type": "code",
   "execution_count": 2,
   "metadata": {},
   "outputs": [
    {
     "data": {
      "text/html": [
       "<video src=\"video-651.mp4\" loop autoplay  >\n",
       "      Your browser does not support the <code>video</code> element.\n",
       "    </video>"
      ],
      "text/plain": [
       "<IPython.core.display.Video object>"
      ]
     },
     "execution_count": 2,
     "metadata": {},
     "output_type": "execute_result"
    }
   ],
   "source": [
    "# Helper function to start the Pylot pipeline.\n",
    "video_name = pylot.risecamp.start_pylot(vehicle_speed=VEHICLE_SPEED)\n",
    "\n",
    "# Functions to reset the scenario and the simulator. (Don't change!)\n",
    "simulator.reset()\n",
    "scenario.reset()\n",
    "\n",
    "# Visualize the drive.\n",
    "from IPython.display import Video\n",
    "Video(video_name, html_attributes=\"loop autoplay\")"
   ]
  },
  {
   "cell_type": "markdown",
   "metadata": {},
   "source": [
    "# Exercise 3: Experimenting with different configurations\n",
    "\n",
    "__GOAL__: Explore different configurations of the `Planner` to prevent a collision at different driving speeds.\n",
    "\n",
    "[Exercise 2](#exercise_2) showed us that a static configuration of the hyperparameters of our `Planner` does not allow the AV to ensure safety across various driving speeds. \n",
    "\n",
    "[ERDOS](https://github.com/erdos-project/erdos) enables an AV pipeline such as [Pylot](https://github.com/erdos-project/pylot) to adjust the runtime of each component in order to ensure the best accuracy for a given environment. For example, the pipeline might choose to run a faster object-detection model that has a lower accuracy in order to allocate more time to the planning module in order to ensure safety.\n",
    "\n",
    "We will now explore the effects of the following two hyperparameters on the ability of our `Planner` to prevent a collision:\n",
    "1. __*Road Width*__: <font color=\"red\"><b>TODO</b></font>: Explain.\n",
    "2. __*Time Discretization*__: <font color=\"red\"><b>TODO</b></font>: Explain."
   ]
  },
  {
   "cell_type": "code",
   "execution_count": null,
   "metadata": {},
   "outputs": [],
   "source": [
    "# TODO: Change the time discretization, and road width parameters.\n",
    "ROAD_WIDTH = 0.2\n",
    "TIME_DISCRETIZATION = 0.2\n",
    "VEHICLE_SPEED = 12\n",
    "\n",
    "# Run the simulator and the scenario (Don't change!)\n",
    "import pylot.risecamp \n",
    "simulator = pylot.risecamp.start_simulator()\n",
    "scenario = pylot.risecamp.setup_scenario()"
   ]
  },
  {
   "cell_type": "code",
   "execution_count": null,
   "metadata": {},
   "outputs": [],
   "source": [
    "# Helper function to start the Pylot pipeline.\n",
    "video_name = pylot.risecamp.start_pylot(vehicle_speed=vehicle_speed,\n",
    "                           time_discretization=TIME_DISCRETIZATION, \n",
    "                           road_width=ROAD_WIDTH)\n",
    "\n",
    "# Functions to reset the scenario and the simulator. (Don't change!)\n",
    "simulator.reset()\n",
    "scenario.reset()\n",
    "\n",
    "# Visualize the drive.\n",
    "from IPython.display import Video\n",
    "Video(video_name, html_attributes=\"loop autoplay\")"
   ]
  }
 ],
 "metadata": {
  "kernelspec": {
   "display_name": "Python 3",
   "language": "python",
   "name": "python3"
  },
  "language_info": {
   "codemirror_mode": {
    "name": "ipython",
    "version": 3
   },
   "file_extension": ".py",
   "mimetype": "text/x-python",
   "name": "python",
   "nbconvert_exporter": "python",
   "pygments_lexer": "ipython3",
   "version": "3.6.9"
  }
 },
 "nbformat": 4,
 "nbformat_minor": 4
}
